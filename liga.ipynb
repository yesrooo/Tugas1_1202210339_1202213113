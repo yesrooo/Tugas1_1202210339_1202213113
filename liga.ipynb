{
 "cells": [
  {
   "cell_type": "code",
   "execution_count": 2,
   "metadata": {},
   "outputs": [
    {
     "name": "stdout",
     "output_type": "stream",
     "text": [
      "[{'team': {'name': 'Arsenal', 'logo': 'https://a.espncdn.com/i/teamlogos/soccer/500/359.png', 'abbreviation': 'ARS'}, 'stats': {'wins': 20, 'losses': 4, 'ties': 4, 'gamesPlayed': 28, 'goalsFor': 70, 'goalsAgainst': 24, 'points': 64, 'rank': 1, 'goalDifference': 46}}, {'team': {'name': 'Liverpool', 'logo': 'https://a.espncdn.com/i/teamlogos/soccer/500/364.png', 'abbreviation': 'LIV'}, 'stats': {'wins': 19, 'losses': 2, 'ties': 7, 'gamesPlayed': 28, 'goalsFor': 65, 'goalsAgainst': 26, 'points': 64, 'rank': 2, 'goalDifference': 39}}, {'team': {'name': 'Manchester City', 'logo': 'https://a.espncdn.com/i/teamlogos/soccer/500/382.png', 'abbreviation': 'MNC'}, 'stats': {'wins': 19, 'losses': 3, 'ties': 6, 'gamesPlayed': 28, 'goalsFor': 63, 'goalsAgainst': 28, 'points': 63, 'rank': 3, 'goalDifference': 35}}, {'team': {'name': 'Aston Villa', 'logo': 'https://a.espncdn.com/i/teamlogos/soccer/500/362.png', 'abbreviation': 'AVL'}, 'stats': {'wins': 17, 'losses': 7, 'ties': 4, 'gamesPlayed': 28, 'goalsFor': 59, 'goalsAgainst': 41, 'points': 55, 'rank': 4, 'goalDifference': 18}}, {'team': {'name': 'Tottenham Hotspur', 'logo': 'https://a.espncdn.com/i/teamlogos/soccer/500/367.png', 'abbreviation': 'TOT'}, 'stats': {'wins': 16, 'losses': 6, 'ties': 5, 'gamesPlayed': 27, 'goalsFor': 59, 'goalsAgainst': 39, 'points': 53, 'rank': 5, 'goalDifference': 20}}, {'team': {'name': 'Manchester United', 'logo': 'https://a.espncdn.com/i/teamlogos/soccer/500/360.png', 'abbreviation': 'MAN'}, 'stats': {'wins': 15, 'losses': 11, 'ties': 2, 'gamesPlayed': 28, 'goalsFor': 39, 'goalsAgainst': 39, 'points': 47, 'rank': 6, 'goalDifference': 0}}, {'team': {'name': 'West Ham United', 'logo': 'https://a.espncdn.com/i/teamlogos/soccer/500/371.png', 'abbreviation': 'WHU'}, 'stats': {'wins': 12, 'losses': 9, 'ties': 7, 'gamesPlayed': 28, 'goalsFor': 45, 'goalsAgainst': 49, 'points': 43, 'rank': 7, 'goalDifference': -4}}, {'team': {'name': 'Brighton & Hove Albion', 'logo': 'https://a.espncdn.com/i/teamlogos/soccer/500/331.png', 'abbreviation': 'BHA'}, 'stats': {'wins': 11, 'losses': 8, 'ties': 9, 'gamesPlayed': 28, 'goalsFor': 50, 'goalsAgainst': 44, 'points': 42, 'rank': 8, 'goalDifference': 6}}, {'team': {'name': 'Wolverhampton Wanderers', 'logo': 'https://a.espncdn.com/i/teamlogos/soccer/500/380.png', 'abbreviation': 'WOL'}, 'stats': {'wins': 12, 'losses': 11, 'ties': 5, 'gamesPlayed': 28, 'goalsFor': 42, 'goalsAgainst': 44, 'points': 41, 'rank': 9, 'goalDifference': -2}}, {'team': {'name': 'Newcastle United', 'logo': 'https://a.espncdn.com/i/teamlogos/soccer/500/361.png', 'abbreviation': 'NEW'}, 'stats': {'wins': 12, 'losses': 12, 'ties': 4, 'gamesPlayed': 28, 'goalsFor': 59, 'goalsAgainst': 48, 'points': 40, 'rank': 10, 'goalDifference': 11}}, {'team': {'name': 'Chelsea', 'logo': 'https://a.espncdn.com/i/teamlogos/soccer/500/363.png', 'abbreviation': 'CHE'}, 'stats': {'wins': 11, 'losses': 10, 'ties': 6, 'gamesPlayed': 27, 'goalsFor': 47, 'goalsAgainst': 45, 'points': 39, 'rank': 11, 'goalDifference': 2}}, {'team': {'name': 'Fulham', 'logo': 'https://a.espncdn.com/i/teamlogos/soccer/500/370.png', 'abbreviation': 'FUL'}, 'stats': {'wins': 10, 'losses': 13, 'ties': 5, 'gamesPlayed': 28, 'goalsFor': 40, 'goalsAgainst': 44, 'points': 35, 'rank': 12, 'goalDifference': -4}}, {'team': {'name': 'AFC Bournemouth', 'logo': 'https://a.espncdn.com/i/teamlogos/soccer/500/349.png', 'abbreviation': 'BOU'}, 'stats': {'wins': 9, 'losses': 11, 'ties': 8, 'gamesPlayed': 28, 'goalsFor': 41, 'goalsAgainst': 52, 'points': 35, 'rank': 13, 'goalDifference': -11}}, {'team': {'name': 'Crystal Palace', 'logo': 'https://a.espncdn.com/i/teamlogos/soccer/500/384.png', 'abbreviation': 'CRY'}, 'stats': {'wins': 7, 'losses': 13, 'ties': 8, 'gamesPlayed': 28, 'goalsFor': 33, 'goalsAgainst': 48, 'points': 29, 'rank': 14, 'goalDifference': -15}}, {'team': {'name': 'Brentford', 'logo': 'https://a.espncdn.com/i/teamlogos/soccer/500/337.png', 'abbreviation': 'BRE'}, 'stats': {'wins': 7, 'losses': 16, 'ties': 5, 'gamesPlayed': 28, 'goalsFor': 40, 'goalsAgainst': 52, 'points': 26, 'rank': 15, 'goalDifference': -12}}, {'team': {'name': 'Everton', 'logo': 'https://a.espncdn.com/i/teamlogos/soccer/500/368.png', 'abbreviation': 'EVE'}, 'stats': {'wins': 8, 'losses': 13, 'ties': 7, 'gamesPlayed': 28, 'goalsFor': 29, 'goalsAgainst': 39, 'points': 25, 'rank': 16, 'goalDifference': -10}}, {'team': {'name': 'Nottingham Forest', 'logo': 'https://a.espncdn.com/i/teamlogos/soccer/500/393.png', 'abbreviation': 'NFO'}, 'stats': {'wins': 6, 'losses': 16, 'ties': 6, 'gamesPlayed': 28, 'goalsFor': 34, 'goalsAgainst': 50, 'points': 24, 'rank': 17, 'goalDifference': -16}}, {'team': {'name': 'Luton Town', 'logo': 'https://a.espncdn.com/i/teamlogos/soccer/500/301.png', 'abbreviation': 'LTN'}, 'stats': {'wins': 5, 'losses': 17, 'ties': 6, 'gamesPlayed': 28, 'goalsFor': 41, 'goalsAgainst': 59, 'points': 21, 'rank': 18, 'goalDifference': -18}}, {'team': {'name': 'Burnley', 'logo': 'https://a.espncdn.com/i/teamlogos/soccer/500/379.png', 'abbreviation': 'BUR'}, 'stats': {'wins': 3, 'losses': 20, 'ties': 5, 'gamesPlayed': 28, 'goalsFor': 27, 'goalsAgainst': 62, 'points': 14, 'rank': 19, 'goalDifference': -35}}, {'team': {'name': 'Sheffield United', 'logo': 'https://a.espncdn.com/i/teamlogos/soccer/500/398.png', 'abbreviation': 'SHU'}, 'stats': {'wins': 3, 'losses': 20, 'ties': 5, 'gamesPlayed': 28, 'goalsFor': 24, 'goalsAgainst': 74, 'points': 14, 'rank': 20, 'goalDifference': -50}}]\n"
     ]
    }
   ],
   "source": [
    "import requests\n",
    "\n",
    "url = \"https://premier-league-standings1.p.rapidapi.com/\"\n",
    "\n",
    "headers = {\n",
    "\t\"X-RapidAPI-Key\": \"f3ca8e13f4msh46de789c7f6234cp19f80ajsn1163e1927d50\",\n",
    "\t\"X-RapidAPI-Host\": \"premier-league-standings1.p.rapidapi.com\"\n",
    "}\n",
    "\n",
    "response = requests.get(url, headers=headers)\n",
    "\n",
    "print(response.json())"
   ]
  },
  {
   "cell_type": "code",
   "execution_count": 3,
   "metadata": {},
   "outputs": [
    {
     "data": {
      "text/plain": [
       "list"
      ]
     },
     "execution_count": 3,
     "metadata": {},
     "output_type": "execute_result"
    }
   ],
   "source": [
    "type(response.json())"
   ]
  },
  {
   "cell_type": "code",
   "execution_count": 4,
   "metadata": {},
   "outputs": [],
   "source": [
    "premierleague = response.json()"
   ]
  },
  {
   "cell_type": "code",
   "execution_count": 5,
   "metadata": {},
   "outputs": [
    {
     "name": "stdout",
     "output_type": "stream",
     "text": [
      "{'team': {'name': 'Arsenal', 'logo': 'https://a.espncdn.com/i/teamlogos/soccer/500/359.png', 'abbreviation': 'ARS'}, 'stats': {'wins': 20, 'losses': 4, 'ties': 4, 'gamesPlayed': 28, 'goalsFor': 70, 'goalsAgainst': 24, 'points': 64, 'rank': 1, 'goalDifference': 46}}\n",
      "{'team': {'name': 'Liverpool', 'logo': 'https://a.espncdn.com/i/teamlogos/soccer/500/364.png', 'abbreviation': 'LIV'}, 'stats': {'wins': 19, 'losses': 2, 'ties': 7, 'gamesPlayed': 28, 'goalsFor': 65, 'goalsAgainst': 26, 'points': 64, 'rank': 2, 'goalDifference': 39}}\n",
      "{'team': {'name': 'Manchester City', 'logo': 'https://a.espncdn.com/i/teamlogos/soccer/500/382.png', 'abbreviation': 'MNC'}, 'stats': {'wins': 19, 'losses': 3, 'ties': 6, 'gamesPlayed': 28, 'goalsFor': 63, 'goalsAgainst': 28, 'points': 63, 'rank': 3, 'goalDifference': 35}}\n",
      "{'team': {'name': 'Aston Villa', 'logo': 'https://a.espncdn.com/i/teamlogos/soccer/500/362.png', 'abbreviation': 'AVL'}, 'stats': {'wins': 17, 'losses': 7, 'ties': 4, 'gamesPlayed': 28, 'goalsFor': 59, 'goalsAgainst': 41, 'points': 55, 'rank': 4, 'goalDifference': 18}}\n",
      "{'team': {'name': 'Tottenham Hotspur', 'logo': 'https://a.espncdn.com/i/teamlogos/soccer/500/367.png', 'abbreviation': 'TOT'}, 'stats': {'wins': 16, 'losses': 6, 'ties': 5, 'gamesPlayed': 27, 'goalsFor': 59, 'goalsAgainst': 39, 'points': 53, 'rank': 5, 'goalDifference': 20}}\n",
      "{'team': {'name': 'Manchester United', 'logo': 'https://a.espncdn.com/i/teamlogos/soccer/500/360.png', 'abbreviation': 'MAN'}, 'stats': {'wins': 15, 'losses': 11, 'ties': 2, 'gamesPlayed': 28, 'goalsFor': 39, 'goalsAgainst': 39, 'points': 47, 'rank': 6, 'goalDifference': 0}}\n",
      "{'team': {'name': 'West Ham United', 'logo': 'https://a.espncdn.com/i/teamlogos/soccer/500/371.png', 'abbreviation': 'WHU'}, 'stats': {'wins': 12, 'losses': 9, 'ties': 7, 'gamesPlayed': 28, 'goalsFor': 45, 'goalsAgainst': 49, 'points': 43, 'rank': 7, 'goalDifference': -4}}\n",
      "{'team': {'name': 'Brighton & Hove Albion', 'logo': 'https://a.espncdn.com/i/teamlogos/soccer/500/331.png', 'abbreviation': 'BHA'}, 'stats': {'wins': 11, 'losses': 8, 'ties': 9, 'gamesPlayed': 28, 'goalsFor': 50, 'goalsAgainst': 44, 'points': 42, 'rank': 8, 'goalDifference': 6}}\n",
      "{'team': {'name': 'Wolverhampton Wanderers', 'logo': 'https://a.espncdn.com/i/teamlogos/soccer/500/380.png', 'abbreviation': 'WOL'}, 'stats': {'wins': 12, 'losses': 11, 'ties': 5, 'gamesPlayed': 28, 'goalsFor': 42, 'goalsAgainst': 44, 'points': 41, 'rank': 9, 'goalDifference': -2}}\n",
      "{'team': {'name': 'Newcastle United', 'logo': 'https://a.espncdn.com/i/teamlogos/soccer/500/361.png', 'abbreviation': 'NEW'}, 'stats': {'wins': 12, 'losses': 12, 'ties': 4, 'gamesPlayed': 28, 'goalsFor': 59, 'goalsAgainst': 48, 'points': 40, 'rank': 10, 'goalDifference': 11}}\n",
      "{'team': {'name': 'Chelsea', 'logo': 'https://a.espncdn.com/i/teamlogos/soccer/500/363.png', 'abbreviation': 'CHE'}, 'stats': {'wins': 11, 'losses': 10, 'ties': 6, 'gamesPlayed': 27, 'goalsFor': 47, 'goalsAgainst': 45, 'points': 39, 'rank': 11, 'goalDifference': 2}}\n",
      "{'team': {'name': 'Fulham', 'logo': 'https://a.espncdn.com/i/teamlogos/soccer/500/370.png', 'abbreviation': 'FUL'}, 'stats': {'wins': 10, 'losses': 13, 'ties': 5, 'gamesPlayed': 28, 'goalsFor': 40, 'goalsAgainst': 44, 'points': 35, 'rank': 12, 'goalDifference': -4}}\n",
      "{'team': {'name': 'AFC Bournemouth', 'logo': 'https://a.espncdn.com/i/teamlogos/soccer/500/349.png', 'abbreviation': 'BOU'}, 'stats': {'wins': 9, 'losses': 11, 'ties': 8, 'gamesPlayed': 28, 'goalsFor': 41, 'goalsAgainst': 52, 'points': 35, 'rank': 13, 'goalDifference': -11}}\n",
      "{'team': {'name': 'Crystal Palace', 'logo': 'https://a.espncdn.com/i/teamlogos/soccer/500/384.png', 'abbreviation': 'CRY'}, 'stats': {'wins': 7, 'losses': 13, 'ties': 8, 'gamesPlayed': 28, 'goalsFor': 33, 'goalsAgainst': 48, 'points': 29, 'rank': 14, 'goalDifference': -15}}\n",
      "{'team': {'name': 'Brentford', 'logo': 'https://a.espncdn.com/i/teamlogos/soccer/500/337.png', 'abbreviation': 'BRE'}, 'stats': {'wins': 7, 'losses': 16, 'ties': 5, 'gamesPlayed': 28, 'goalsFor': 40, 'goalsAgainst': 52, 'points': 26, 'rank': 15, 'goalDifference': -12}}\n",
      "{'team': {'name': 'Everton', 'logo': 'https://a.espncdn.com/i/teamlogos/soccer/500/368.png', 'abbreviation': 'EVE'}, 'stats': {'wins': 8, 'losses': 13, 'ties': 7, 'gamesPlayed': 28, 'goalsFor': 29, 'goalsAgainst': 39, 'points': 25, 'rank': 16, 'goalDifference': -10}}\n",
      "{'team': {'name': 'Nottingham Forest', 'logo': 'https://a.espncdn.com/i/teamlogos/soccer/500/393.png', 'abbreviation': 'NFO'}, 'stats': {'wins': 6, 'losses': 16, 'ties': 6, 'gamesPlayed': 28, 'goalsFor': 34, 'goalsAgainst': 50, 'points': 24, 'rank': 17, 'goalDifference': -16}}\n",
      "{'team': {'name': 'Luton Town', 'logo': 'https://a.espncdn.com/i/teamlogos/soccer/500/301.png', 'abbreviation': 'LTN'}, 'stats': {'wins': 5, 'losses': 17, 'ties': 6, 'gamesPlayed': 28, 'goalsFor': 41, 'goalsAgainst': 59, 'points': 21, 'rank': 18, 'goalDifference': -18}}\n",
      "{'team': {'name': 'Burnley', 'logo': 'https://a.espncdn.com/i/teamlogos/soccer/500/379.png', 'abbreviation': 'BUR'}, 'stats': {'wins': 3, 'losses': 20, 'ties': 5, 'gamesPlayed': 28, 'goalsFor': 27, 'goalsAgainst': 62, 'points': 14, 'rank': 19, 'goalDifference': -35}}\n",
      "{'team': {'name': 'Sheffield United', 'logo': 'https://a.espncdn.com/i/teamlogos/soccer/500/398.png', 'abbreviation': 'SHU'}, 'stats': {'wins': 3, 'losses': 20, 'ties': 5, 'gamesPlayed': 28, 'goalsFor': 24, 'goalsAgainst': 74, 'points': 14, 'rank': 20, 'goalDifference': -50}}\n"
     ]
    }
   ],
   "source": [
    "for i in premierleague:\n",
    "    print(i)"
   ]
  },
  {
   "cell_type": "code",
   "execution_count": 9,
   "metadata": {},
   "outputs": [
    {
     "name": "stdout",
     "output_type": "stream",
     "text": [
      "Arsenal https://a.espncdn.com/i/teamlogos/soccer/500/359.png 20\n",
      "Liverpool https://a.espncdn.com/i/teamlogos/soccer/500/364.png 19\n",
      "Manchester City https://a.espncdn.com/i/teamlogos/soccer/500/382.png 19\n",
      "Aston Villa https://a.espncdn.com/i/teamlogos/soccer/500/362.png 17\n",
      "Tottenham Hotspur https://a.espncdn.com/i/teamlogos/soccer/500/367.png 16\n",
      "Manchester United https://a.espncdn.com/i/teamlogos/soccer/500/360.png 15\n",
      "West Ham United https://a.espncdn.com/i/teamlogos/soccer/500/371.png 12\n",
      "Brighton & Hove Albion https://a.espncdn.com/i/teamlogos/soccer/500/331.png 11\n",
      "Wolverhampton Wanderers https://a.espncdn.com/i/teamlogos/soccer/500/380.png 12\n",
      "Newcastle United https://a.espncdn.com/i/teamlogos/soccer/500/361.png 12\n",
      "Chelsea https://a.espncdn.com/i/teamlogos/soccer/500/363.png 11\n",
      "Fulham https://a.espncdn.com/i/teamlogos/soccer/500/370.png 10\n",
      "AFC Bournemouth https://a.espncdn.com/i/teamlogos/soccer/500/349.png 9\n",
      "Crystal Palace https://a.espncdn.com/i/teamlogos/soccer/500/384.png 7\n",
      "Brentford https://a.espncdn.com/i/teamlogos/soccer/500/337.png 7\n",
      "Everton https://a.espncdn.com/i/teamlogos/soccer/500/368.png 8\n",
      "Nottingham Forest https://a.espncdn.com/i/teamlogos/soccer/500/393.png 6\n",
      "Luton Town https://a.espncdn.com/i/teamlogos/soccer/500/301.png 5\n",
      "Burnley https://a.espncdn.com/i/teamlogos/soccer/500/379.png 3\n",
      "Sheffield United https://a.espncdn.com/i/teamlogos/soccer/500/398.png 3\n"
     ]
    }
   ],
   "source": [
    "for i in premierleague:\n",
    "    print(i['team']['name'], i['team']['logo'],i['stats']['wins'])"
   ]
  },
  {
   "cell_type": "code",
   "execution_count": 8,
   "metadata": {},
   "outputs": [
    {
     "name": "stdout",
     "output_type": "stream",
     "text": [
      "Arsenal 20 4\n",
      "Liverpool 19 2\n",
      "Manchester City 19 3\n",
      "Aston Villa 17 7\n",
      "Tottenham Hotspur 16 6\n",
      "Manchester United 15 11\n",
      "West Ham United 12 9\n",
      "Brighton & Hove Albion 11 8\n",
      "Wolverhampton Wanderers 12 11\n",
      "Newcastle United 12 12\n",
      "Chelsea 11 10\n",
      "Fulham 10 13\n",
      "AFC Bournemouth 9 11\n",
      "Crystal Palace 7 13\n",
      "Brentford 7 16\n",
      "Everton 8 13\n",
      "Nottingham Forest 6 16\n",
      "Luton Town 5 17\n",
      "Burnley 3 20\n",
      "Sheffield United 3 20\n"
     ]
    }
   ],
   "source": [
    "for i in premierleague:\n",
    "    print(i['team']['name'], i['stats']['wins'], i['stats']['losses'])"
   ]
  }
 ],
 "metadata": {
  "kernelspec": {
   "display_name": "Python 3",
   "language": "python",
   "name": "python3"
  },
  "language_info": {
   "codemirror_mode": {
    "name": "ipython",
    "version": 3
   },
   "file_extension": ".py",
   "mimetype": "text/x-python",
   "name": "python",
   "nbconvert_exporter": "python",
   "pygments_lexer": "ipython3",
   "version": "3.10.2"
  }
 },
 "nbformat": 4,
 "nbformat_minor": 2
}

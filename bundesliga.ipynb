{
 "cells": [
  {
   "cell_type": "code",
   "execution_count": 1,
   "metadata": {},
   "outputs": [
    {
     "name": "stdout",
     "output_type": "stream",
     "text": [
      "[{'team': {'name': 'Bayer Leverkusen', 'logo': 'https://a.espncdn.com/i/teamlogos/soccer/500/131.png', 'abbreviation': 'B04'}, 'stats': {'wins': 21, 'losses': 0, 'ties': 4, 'gamesPlayed': 25, 'goalsFor': 63, 'goalsAgainst': 16, 'points': 67, 'rank': 1, 'goalDifference': 47}}, {'team': {'name': 'Bayern Munich', 'logo': 'https://a.espncdn.com/i/teamlogos/soccer/500/132.png', 'abbreviation': 'MUN'}, 'stats': {'wins': 18, 'losses': 4, 'ties': 3, 'gamesPlayed': 25, 'goalsFor': 73, 'goalsAgainst': 29, 'points': 57, 'rank': 2, 'goalDifference': 44}}, {'team': {'name': 'VfB Stuttgart', 'logo': 'https://a.espncdn.com/i/teamlogos/soccer/500/134.png', 'abbreviation': 'VFB'}, 'stats': {'wins': 17, 'losses': 6, 'ties': 2, 'gamesPlayed': 25, 'goalsFor': 57, 'goalsAgainst': 31, 'points': 53, 'rank': 3, 'goalDifference': 26}}, {'team': {'name': 'RB Leipzig', 'logo': 'https://a.espncdn.com/i/teamlogos/soccer/500/11420.png', 'abbreviation': 'RBL'}, 'stats': {'wins': 15, 'losses': 7, 'ties': 4, 'gamesPlayed': 26, 'goalsFor': 60, 'goalsAgainst': 32, 'points': 49, 'rank': 4, 'goalDifference': 28}}, {'team': {'name': 'Borussia Dortmund', 'logo': 'https://a.espncdn.com/i/teamlogos/soccer/500/124.png', 'abbreviation': 'DOR'}, 'stats': {'wins': 13, 'losses': 4, 'ties': 8, 'gamesPlayed': 25, 'goalsFor': 50, 'goalsAgainst': 31, 'points': 47, 'rank': 5, 'goalDifference': 19}}, {'team': {'name': 'Eintracht Frankfurt', 'logo': 'https://a.espncdn.com/i/teamlogos/soccer/500/125.png', 'abbreviation': 'SGE'}, 'stats': {'wins': 10, 'losses': 5, 'ties': 10, 'gamesPlayed': 25, 'goalsFor': 41, 'goalsAgainst': 32, 'points': 40, 'rank': 6, 'goalDifference': 9}}, {'team': {'name': 'TSG Hoffenheim', 'logo': 'https://a.espncdn.com/i/teamlogos/soccer/500/7911.png', 'abbreviation': 'TSG'}, 'stats': {'wins': 9, 'losses': 10, 'ties': 6, 'gamesPlayed': 25, 'goalsFor': 44, 'goalsAgainst': 47, 'points': 33, 'rank': 7, 'goalDifference': -3}}, {'team': {'name': 'SC Freiburg', 'logo': 'https://a.espncdn.com/i/teamlogos/soccer/500/126.png', 'abbreviation': 'SCF'}, 'stats': {'wins': 9, 'losses': 10, 'ties': 6, 'gamesPlayed': 25, 'goalsFor': 34, 'goalsAgainst': 45, 'points': 33, 'rank': 8, 'goalDifference': -11}}, {'team': {'name': 'FC Augsburg', 'logo': 'https://a.espncdn.com/i/teamlogos/soccer/500/3841.png', 'abbreviation': 'FCA'}, 'stats': {'wins': 8, 'losses': 9, 'ties': 8, 'gamesPlayed': 25, 'goalsFor': 40, 'goalsAgainst': 41, 'points': 32, 'rank': 9, 'goalDifference': -1}}, {'team': {'name': 'Werder Bremen', 'logo': 'https://a.espncdn.com/i/teamlogos/soccer/500/137.png', 'abbreviation': 'SVW'}, 'stats': {'wins': 8, 'losses': 11, 'ties': 6, 'gamesPlayed': 25, 'goalsFor': 34, 'goalsAgainst': 39, 'points': 30, 'rank': 10, 'goalDifference': -5}}, {'team': {'name': '1. FC Heidenheim 1846', 'logo': 'https://a.espncdn.com/i/teamlogos/soccer/500/6418.png', 'abbreviation': 'HDH'}, 'stats': {'wins': 7, 'losses': 11, 'ties': 7, 'gamesPlayed': 25, 'goalsFor': 34, 'goalsAgainst': 43, 'points': 28, 'rank': 11, 'goalDifference': -9}}, {'team': {'name': 'Borussia Monchengladbach', 'logo': 'https://a.espncdn.com/i/teamlogos/soccer/500/268.png', 'abbreviation': 'BMG'}, 'stats': {'wins': 6, 'losses': 10, 'ties': 9, 'gamesPlayed': 25, 'goalsFor': 45, 'goalsAgainst': 49, 'points': 27, 'rank': 12, 'goalDifference': -4}}, {'team': {'name': 'VfL Wolfsburg', 'logo': 'https://a.espncdn.com/i/teamlogos/soccer/500/138.png', 'abbreviation': 'WOB'}, 'stats': {'wins': 6, 'losses': 12, 'ties': 7, 'gamesPlayed': 25, 'goalsFor': 30, 'goalsAgainst': 41, 'points': 25, 'rank': 13, 'goalDifference': -11}}, {'team': {'name': '1. FC Union Berlin', 'logo': 'https://a.espncdn.com/i/teamlogos/soccer/500/598.png', 'abbreviation': 'FCU'}, 'stats': {'wins': 7, 'losses': 14, 'ties': 4, 'gamesPlayed': 25, 'goalsFor': 23, 'goalsAgainst': 41, 'points': 25, 'rank': 14, 'goalDifference': -18}}, {'team': {'name': 'VfL Bochum', 'logo': 'https://a.espncdn.com/i/teamlogos/soccer/500/121.png', 'abbreviation': 'BOC'}, 'stats': {'wins': 5, 'losses': 10, 'ties': 10, 'gamesPlayed': 25, 'goalsFor': 30, 'goalsAgainst': 52, 'points': 25, 'rank': 15, 'goalDifference': -22}}, {'team': {'name': 'FC Cologne', 'logo': 'https://a.espncdn.com/i/teamlogos/soccer/500/122.png', 'abbreviation': 'KOE'}, 'stats': {'wins': 3, 'losses': 14, 'ties': 9, 'gamesPlayed': 26, 'goalsFor': 20, 'goalsAgainst': 47, 'points': 18, 'rank': 16, 'goalDifference': -27}}, {'team': {'name': 'Mainz', 'logo': 'https://a.espncdn.com/i/teamlogos/soccer/500/2950.png', 'abbreviation': 'M05'}, 'stats': {'wins': 2, 'losses': 13, 'ties': 10, 'gamesPlayed': 25, 'goalsFor': 20, 'goalsAgainst': 46, 'points': 16, 'rank': 17, 'goalDifference': -26}}, {'team': {'name': 'SV Darmstadt 98', 'logo': 'https://a.espncdn.com/i/teamlogos/soccer/500/3812.png', 'abbreviation': 'SVD'}, 'stats': {'wins': 2, 'losses': 16, 'ties': 7, 'gamesPlayed': 25, 'goalsFor': 24, 'goalsAgainst': 60, 'points': 13, 'rank': 18, 'goalDifference': -36}}]\n"
     ]
    }
   ],
   "source": [
    "import requests\n",
    "\n",
    "url = \"https://bundesliga-standings.p.rapidapi.com/\"\n",
    "\n",
    "headers = {\n",
    "\t\"X-RapidAPI-Key\": \"f3ca8e13f4msh46de789c7f6234cp19f80ajsn1163e1927d50\",\n",
    "\t\"X-RapidAPI-Host\": \"bundesliga-standings.p.rapidapi.com\"\n",
    "}\n",
    "\n",
    "response = requests.get(url, headers=headers)\n",
    "\n",
    "print(response.json())"
   ]
  },
  {
   "cell_type": "code",
   "execution_count": 2,
   "metadata": {},
   "outputs": [
    {
     "data": {
      "text/plain": [
       "list"
      ]
     },
     "execution_count": 2,
     "metadata": {},
     "output_type": "execute_result"
    }
   ],
   "source": [
    "type(response.json())"
   ]
  },
  {
   "cell_type": "code",
   "execution_count": 3,
   "metadata": {},
   "outputs": [],
   "source": [
    "bundesliga = response.json()"
   ]
  },
  {
   "cell_type": "code",
   "execution_count": 5,
   "metadata": {},
   "outputs": [
    {
     "name": "stdout",
     "output_type": "stream",
     "text": [
      "{'team': {'name': 'Bayer Leverkusen', 'logo': 'https://a.espncdn.com/i/teamlogos/soccer/500/131.png', 'abbreviation': 'B04'}, 'stats': {'wins': 21, 'losses': 0, 'ties': 4, 'gamesPlayed': 25, 'goalsFor': 63, 'goalsAgainst': 16, 'points': 67, 'rank': 1, 'goalDifference': 47}}\n",
      "{'team': {'name': 'Bayern Munich', 'logo': 'https://a.espncdn.com/i/teamlogos/soccer/500/132.png', 'abbreviation': 'MUN'}, 'stats': {'wins': 18, 'losses': 4, 'ties': 3, 'gamesPlayed': 25, 'goalsFor': 73, 'goalsAgainst': 29, 'points': 57, 'rank': 2, 'goalDifference': 44}}\n",
      "{'team': {'name': 'VfB Stuttgart', 'logo': 'https://a.espncdn.com/i/teamlogos/soccer/500/134.png', 'abbreviation': 'VFB'}, 'stats': {'wins': 17, 'losses': 6, 'ties': 2, 'gamesPlayed': 25, 'goalsFor': 57, 'goalsAgainst': 31, 'points': 53, 'rank': 3, 'goalDifference': 26}}\n",
      "{'team': {'name': 'RB Leipzig', 'logo': 'https://a.espncdn.com/i/teamlogos/soccer/500/11420.png', 'abbreviation': 'RBL'}, 'stats': {'wins': 15, 'losses': 7, 'ties': 4, 'gamesPlayed': 26, 'goalsFor': 60, 'goalsAgainst': 32, 'points': 49, 'rank': 4, 'goalDifference': 28}}\n",
      "{'team': {'name': 'Borussia Dortmund', 'logo': 'https://a.espncdn.com/i/teamlogos/soccer/500/124.png', 'abbreviation': 'DOR'}, 'stats': {'wins': 13, 'losses': 4, 'ties': 8, 'gamesPlayed': 25, 'goalsFor': 50, 'goalsAgainst': 31, 'points': 47, 'rank': 5, 'goalDifference': 19}}\n",
      "{'team': {'name': 'Eintracht Frankfurt', 'logo': 'https://a.espncdn.com/i/teamlogos/soccer/500/125.png', 'abbreviation': 'SGE'}, 'stats': {'wins': 10, 'losses': 5, 'ties': 10, 'gamesPlayed': 25, 'goalsFor': 41, 'goalsAgainst': 32, 'points': 40, 'rank': 6, 'goalDifference': 9}}\n",
      "{'team': {'name': 'TSG Hoffenheim', 'logo': 'https://a.espncdn.com/i/teamlogos/soccer/500/7911.png', 'abbreviation': 'TSG'}, 'stats': {'wins': 9, 'losses': 10, 'ties': 6, 'gamesPlayed': 25, 'goalsFor': 44, 'goalsAgainst': 47, 'points': 33, 'rank': 7, 'goalDifference': -3}}\n",
      "{'team': {'name': 'SC Freiburg', 'logo': 'https://a.espncdn.com/i/teamlogos/soccer/500/126.png', 'abbreviation': 'SCF'}, 'stats': {'wins': 9, 'losses': 10, 'ties': 6, 'gamesPlayed': 25, 'goalsFor': 34, 'goalsAgainst': 45, 'points': 33, 'rank': 8, 'goalDifference': -11}}\n",
      "{'team': {'name': 'FC Augsburg', 'logo': 'https://a.espncdn.com/i/teamlogos/soccer/500/3841.png', 'abbreviation': 'FCA'}, 'stats': {'wins': 8, 'losses': 9, 'ties': 8, 'gamesPlayed': 25, 'goalsFor': 40, 'goalsAgainst': 41, 'points': 32, 'rank': 9, 'goalDifference': -1}}\n",
      "{'team': {'name': 'Werder Bremen', 'logo': 'https://a.espncdn.com/i/teamlogos/soccer/500/137.png', 'abbreviation': 'SVW'}, 'stats': {'wins': 8, 'losses': 11, 'ties': 6, 'gamesPlayed': 25, 'goalsFor': 34, 'goalsAgainst': 39, 'points': 30, 'rank': 10, 'goalDifference': -5}}\n",
      "{'team': {'name': '1. FC Heidenheim 1846', 'logo': 'https://a.espncdn.com/i/teamlogos/soccer/500/6418.png', 'abbreviation': 'HDH'}, 'stats': {'wins': 7, 'losses': 11, 'ties': 7, 'gamesPlayed': 25, 'goalsFor': 34, 'goalsAgainst': 43, 'points': 28, 'rank': 11, 'goalDifference': -9}}\n",
      "{'team': {'name': 'Borussia Monchengladbach', 'logo': 'https://a.espncdn.com/i/teamlogos/soccer/500/268.png', 'abbreviation': 'BMG'}, 'stats': {'wins': 6, 'losses': 10, 'ties': 9, 'gamesPlayed': 25, 'goalsFor': 45, 'goalsAgainst': 49, 'points': 27, 'rank': 12, 'goalDifference': -4}}\n",
      "{'team': {'name': 'VfL Wolfsburg', 'logo': 'https://a.espncdn.com/i/teamlogos/soccer/500/138.png', 'abbreviation': 'WOB'}, 'stats': {'wins': 6, 'losses': 12, 'ties': 7, 'gamesPlayed': 25, 'goalsFor': 30, 'goalsAgainst': 41, 'points': 25, 'rank': 13, 'goalDifference': -11}}\n",
      "{'team': {'name': '1. FC Union Berlin', 'logo': 'https://a.espncdn.com/i/teamlogos/soccer/500/598.png', 'abbreviation': 'FCU'}, 'stats': {'wins': 7, 'losses': 14, 'ties': 4, 'gamesPlayed': 25, 'goalsFor': 23, 'goalsAgainst': 41, 'points': 25, 'rank': 14, 'goalDifference': -18}}\n",
      "{'team': {'name': 'VfL Bochum', 'logo': 'https://a.espncdn.com/i/teamlogos/soccer/500/121.png', 'abbreviation': 'BOC'}, 'stats': {'wins': 5, 'losses': 10, 'ties': 10, 'gamesPlayed': 25, 'goalsFor': 30, 'goalsAgainst': 52, 'points': 25, 'rank': 15, 'goalDifference': -22}}\n",
      "{'team': {'name': 'FC Cologne', 'logo': 'https://a.espncdn.com/i/teamlogos/soccer/500/122.png', 'abbreviation': 'KOE'}, 'stats': {'wins': 3, 'losses': 14, 'ties': 9, 'gamesPlayed': 26, 'goalsFor': 20, 'goalsAgainst': 47, 'points': 18, 'rank': 16, 'goalDifference': -27}}\n",
      "{'team': {'name': 'Mainz', 'logo': 'https://a.espncdn.com/i/teamlogos/soccer/500/2950.png', 'abbreviation': 'M05'}, 'stats': {'wins': 2, 'losses': 13, 'ties': 10, 'gamesPlayed': 25, 'goalsFor': 20, 'goalsAgainst': 46, 'points': 16, 'rank': 17, 'goalDifference': -26}}\n",
      "{'team': {'name': 'SV Darmstadt 98', 'logo': 'https://a.espncdn.com/i/teamlogos/soccer/500/3812.png', 'abbreviation': 'SVD'}, 'stats': {'wins': 2, 'losses': 16, 'ties': 7, 'gamesPlayed': 25, 'goalsFor': 24, 'goalsAgainst': 60, 'points': 13, 'rank': 18, 'goalDifference': -36}}\n"
     ]
    }
   ],
   "source": [
    "for i in bundesliga:\n",
    "    print(i)"
   ]
  }
 ],
 "metadata": {
  "kernelspec": {
   "display_name": "Python 3",
   "language": "python",
   "name": "python3"
  },
  "language_info": {
   "codemirror_mode": {
    "name": "ipython",
    "version": 3
   },
   "file_extension": ".py",
   "mimetype": "text/x-python",
   "name": "python",
   "nbconvert_exporter": "python",
   "pygments_lexer": "ipython3",
   "version": "3.10.2"
  }
 },
 "nbformat": 4,
 "nbformat_minor": 2
}
